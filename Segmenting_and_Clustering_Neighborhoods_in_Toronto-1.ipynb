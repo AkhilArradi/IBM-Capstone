{
  "nbformat": 4,
  "nbformat_minor": 0,
  "metadata": {
    "colab": {
      "name": "Segmenting and Clustering Neighborhoods in Toronto",
      "provenance": [],
      "authorship_tag": "ABX9TyMGUsSGXEPCKic3HbN8Zk3g",
      "include_colab_link": true
    },
    "kernelspec": {
      "name": "python3",
      "display_name": "Python 3"
    }
  },
  "cells": [
    {
      "cell_type": "markdown",
      "metadata": {
        "id": "view-in-github",
        "colab_type": "text"
      },
      "source": [
        "<a href=\"https://colab.research.google.com/github/AkhilArradi/IBM-Capstone/blob/master/Segmenting_and_Clustering_Neighborhoods_in_Toronto-1.ipynb\" target=\"_parent\"><img src=\"https://colab.research.google.com/assets/colab-badge.svg\" alt=\"Open In Colab\"/></a>"
      ]
    },
    {
      "cell_type": "code",
      "metadata": {
        "id": "XqJKN47J5Bbn",
        "colab_type": "code",
        "colab": {}
      },
      "source": [
        "import requests\n",
        "import lxml.html as lh\n",
        "import pandas as pd\n",
        "url='https://en.wikipedia.org/wiki/List_of_postal_codes_of_Canada:_M'\n",
        "\n",
        "page = requests.get(url)\n",
        "\n",
        "doc = lh.fromstring(page.content)\n",
        "\n",
        "tr_elements = doc.xpath('//tr')"
      ],
      "execution_count": null,
      "outputs": []
    },
    {
      "cell_type": "code",
      "metadata": {
        "id": "PF5vcnGK5ThW",
        "colab_type": "code",
        "colab": {
          "base_uri": "https://localhost:8080/",
          "height": 119
        },
        "outputId": "4f9fe643-196c-47da-d2e5-670a0cab14a4"
      },
      "source": [
        "tr_elements = doc.xpath('//tr')\n",
        "col=[]\n",
        "i=0\n",
        "\n",
        "#For each row, store each first element (header) and an empty list\n",
        "for t in tr_elements[0]:\n",
        "    i+=1\n",
        "    name=t.text_content()\n",
        "    print ('%d:\"%s\"'%(i,name))\n",
        "    col.append((name,[]))"
      ],
      "execution_count": 126,
      "outputs": [
        {
          "output_type": "stream",
          "text": [
            "1:\"Postal Code\n",
            "\"\n",
            "2:\"Borough\n",
            "\"\n",
            "3:\"Neighborhood\n",
            "\"\n"
          ],
          "name": "stdout"
        }
      ]
    },
    {
      "cell_type": "code",
      "metadata": {
        "id": "rcrFCkqK7Z6M",
        "colab_type": "code",
        "colab": {
          "base_uri": "https://localhost:8080/",
          "height": 34
        },
        "outputId": "f3dd49ac-caf4-49e8-8f77-c7e5c0ae4398"
      },
      "source": [
        "col"
      ],
      "execution_count": null,
      "outputs": [
        {
          "output_type": "execute_result",
          "data": {
            "text/plain": [
              "[('Postal Code\\n', []), ('Borough\\n', []), ('Neighborhood\\n', [])]"
            ]
          },
          "metadata": {
            "tags": []
          },
          "execution_count": 12
        }
      ]
    },
    {
      "cell_type": "code",
      "metadata": {
        "id": "bVr1pBhU7_r0",
        "colab_type": "code",
        "colab": {}
      },
      "source": [
        "for j in range(1,len(tr_elements)):\n",
        "    #T is our j'th row\n",
        "    T=tr_elements[j]\n",
        "    \n",
        "    #If row is not of size 3, the //tr data is not from our table \n",
        "    if len(T)!=3:\n",
        "        break\n",
        "    \n",
        "    #i is the index of our column\n",
        "    i=0\n",
        "    \n",
        "    #Iterate through each element of the row\n",
        "    for t in T.iterchildren():\n",
        "        data=t.text_content() \n",
        "        #Check if row is empty\n",
        "        if i>0:\n",
        "        #Convert any numerical value to integers\n",
        "            try:\n",
        "                data=int(data)\n",
        "            except:\n",
        "                pass\n",
        "        #Append the data to the empty list of the i'th column\n",
        "        col[i][1].append(data)\n",
        "        #Increment i for the next column\n",
        "        i+=1"
      ],
      "execution_count": 127,
      "outputs": []
    },
    {
      "cell_type": "code",
      "metadata": {
        "id": "DnPAeXA98-jo",
        "colab_type": "code",
        "colab": {
          "base_uri": "https://localhost:8080/",
          "height": 163
        },
        "outputId": "15373d46-cf72-4d10-cca3-10141e512ab5"
      },
      "source": [
        "[len(C for (title,C) in col)]"
      ],
      "execution_count": 128,
      "outputs": [
        {
          "output_type": "error",
          "ename": "TypeError",
          "evalue": "ignored",
          "traceback": [
            "\u001b[0;31m---------------------------------------------------------------------------\u001b[0m",
            "\u001b[0;31mTypeError\u001b[0m                                 Traceback (most recent call last)",
            "\u001b[0;32m<ipython-input-128-f639e0f1e575>\u001b[0m in \u001b[0;36m<module>\u001b[0;34m()\u001b[0m\n\u001b[0;32m----> 1\u001b[0;31m \u001b[0;34m[\u001b[0m\u001b[0mlen\u001b[0m\u001b[0;34m(\u001b[0m\u001b[0mC\u001b[0m \u001b[0;32mfor\u001b[0m \u001b[0;34m(\u001b[0m\u001b[0mtitle\u001b[0m\u001b[0;34m,\u001b[0m\u001b[0mC\u001b[0m\u001b[0;34m)\u001b[0m \u001b[0;32min\u001b[0m \u001b[0mcol\u001b[0m\u001b[0;34m)\u001b[0m\u001b[0;34m]\u001b[0m\u001b[0;34m\u001b[0m\u001b[0;34m\u001b[0m\u001b[0m\n\u001b[0m",
            "\u001b[0;31mTypeError\u001b[0m: object of type 'generator' has no len()"
          ]
        }
      ]
    },
    {
      "cell_type": "code",
      "metadata": {
        "id": "ZMmafICY9CO8",
        "colab_type": "code",
        "colab": {}
      },
      "source": [
        "Dict={title:column for (title,column) in col}\n",
        "df=pd.DataFrame(Dict)"
      ],
      "execution_count": 129,
      "outputs": []
    },
    {
      "cell_type": "code",
      "metadata": {
        "id": "Cf1oa0Mr9xs4",
        "colab_type": "code",
        "colab": {
          "base_uri": "https://localhost:8080/",
          "height": 419
        },
        "outputId": "de3f2ba4-8e70-49f2-b34e-ab75f9b78e9d"
      },
      "source": [
        "df"
      ],
      "execution_count": 130,
      "outputs": [
        {
          "output_type": "execute_result",
          "data": {
            "text/html": [
              "<div>\n",
              "<style scoped>\n",
              "    .dataframe tbody tr th:only-of-type {\n",
              "        vertical-align: middle;\n",
              "    }\n",
              "\n",
              "    .dataframe tbody tr th {\n",
              "        vertical-align: top;\n",
              "    }\n",
              "\n",
              "    .dataframe thead th {\n",
              "        text-align: right;\n",
              "    }\n",
              "</style>\n",
              "<table border=\"1\" class=\"dataframe\">\n",
              "  <thead>\n",
              "    <tr style=\"text-align: right;\">\n",
              "      <th></th>\n",
              "      <th>Postal Code\\n</th>\n",
              "      <th>Borough\\n</th>\n",
              "      <th>Neighborhood\\n</th>\n",
              "    </tr>\n",
              "  </thead>\n",
              "  <tbody>\n",
              "    <tr>\n",
              "      <th>0</th>\n",
              "      <td>M1A\\n</td>\n",
              "      <td>Not assigned\\n</td>\n",
              "      <td>Not assigned\\n</td>\n",
              "    </tr>\n",
              "    <tr>\n",
              "      <th>1</th>\n",
              "      <td>M2A\\n</td>\n",
              "      <td>Not assigned\\n</td>\n",
              "      <td>Not assigned\\n</td>\n",
              "    </tr>\n",
              "    <tr>\n",
              "      <th>2</th>\n",
              "      <td>M3A\\n</td>\n",
              "      <td>North York\\n</td>\n",
              "      <td>Parkwoods\\n</td>\n",
              "    </tr>\n",
              "    <tr>\n",
              "      <th>3</th>\n",
              "      <td>M4A\\n</td>\n",
              "      <td>North York\\n</td>\n",
              "      <td>Victoria Village\\n</td>\n",
              "    </tr>\n",
              "    <tr>\n",
              "      <th>4</th>\n",
              "      <td>M5A\\n</td>\n",
              "      <td>Downtown Toronto\\n</td>\n",
              "      <td>Regent Park, Harbourfront\\n</td>\n",
              "    </tr>\n",
              "    <tr>\n",
              "      <th>...</th>\n",
              "      <td>...</td>\n",
              "      <td>...</td>\n",
              "      <td>...</td>\n",
              "    </tr>\n",
              "    <tr>\n",
              "      <th>176</th>\n",
              "      <td>M6Z\\n</td>\n",
              "      <td>Not assigned\\n</td>\n",
              "      <td>Not assigned\\n</td>\n",
              "    </tr>\n",
              "    <tr>\n",
              "      <th>177</th>\n",
              "      <td>M7Z\\n</td>\n",
              "      <td>Not assigned\\n</td>\n",
              "      <td>Not assigned\\n</td>\n",
              "    </tr>\n",
              "    <tr>\n",
              "      <th>178</th>\n",
              "      <td>M8Z\\n</td>\n",
              "      <td>Etobicoke\\n</td>\n",
              "      <td>Mimico NW, The Queensway West, South of Bloor,...</td>\n",
              "    </tr>\n",
              "    <tr>\n",
              "      <th>179</th>\n",
              "      <td>M9Z\\n</td>\n",
              "      <td>Not assigned\\n</td>\n",
              "      <td>Not assigned\\n</td>\n",
              "    </tr>\n",
              "    <tr>\n",
              "      <th>180</th>\n",
              "      <td>\\n</td>\n",
              "      <td>Canadian postal codes\\n</td>\n",
              "      <td>\\n</td>\n",
              "    </tr>\n",
              "  </tbody>\n",
              "</table>\n",
              "<p>181 rows × 3 columns</p>\n",
              "</div>"
            ],
            "text/plain": [
              "    Postal Code\\n  ...                                     Neighborhood\\n\n",
              "0           M1A\\n  ...                                     Not assigned\\n\n",
              "1           M2A\\n  ...                                     Not assigned\\n\n",
              "2           M3A\\n  ...                                        Parkwoods\\n\n",
              "3           M4A\\n  ...                                 Victoria Village\\n\n",
              "4           M5A\\n  ...                        Regent Park, Harbourfront\\n\n",
              "..            ...  ...                                                ...\n",
              "176         M6Z\\n  ...                                     Not assigned\\n\n",
              "177         M7Z\\n  ...                                     Not assigned\\n\n",
              "178         M8Z\\n  ...  Mimico NW, The Queensway West, South of Bloor,...\n",
              "179         M9Z\\n  ...                                     Not assigned\\n\n",
              "180            \\n  ...                                                 \\n\n",
              "\n",
              "[181 rows x 3 columns]"
            ]
          },
          "metadata": {
            "tags": []
          },
          "execution_count": 130
        }
      ]
    },
    {
      "cell_type": "code",
      "metadata": {
        "id": "EvRzCh5d9yjj",
        "colab_type": "code",
        "colab": {
          "base_uri": "https://localhost:8080/",
          "height": 204
        },
        "outputId": "eab72a94-879a-4ebe-ee64-896cf7cf077f"
      },
      "source": [
        "df.head()"
      ],
      "execution_count": 131,
      "outputs": [
        {
          "output_type": "execute_result",
          "data": {
            "text/html": [
              "<div>\n",
              "<style scoped>\n",
              "    .dataframe tbody tr th:only-of-type {\n",
              "        vertical-align: middle;\n",
              "    }\n",
              "\n",
              "    .dataframe tbody tr th {\n",
              "        vertical-align: top;\n",
              "    }\n",
              "\n",
              "    .dataframe thead th {\n",
              "        text-align: right;\n",
              "    }\n",
              "</style>\n",
              "<table border=\"1\" class=\"dataframe\">\n",
              "  <thead>\n",
              "    <tr style=\"text-align: right;\">\n",
              "      <th></th>\n",
              "      <th>Postal Code\\n</th>\n",
              "      <th>Borough\\n</th>\n",
              "      <th>Neighborhood\\n</th>\n",
              "    </tr>\n",
              "  </thead>\n",
              "  <tbody>\n",
              "    <tr>\n",
              "      <th>0</th>\n",
              "      <td>M1A\\n</td>\n",
              "      <td>Not assigned\\n</td>\n",
              "      <td>Not assigned\\n</td>\n",
              "    </tr>\n",
              "    <tr>\n",
              "      <th>1</th>\n",
              "      <td>M2A\\n</td>\n",
              "      <td>Not assigned\\n</td>\n",
              "      <td>Not assigned\\n</td>\n",
              "    </tr>\n",
              "    <tr>\n",
              "      <th>2</th>\n",
              "      <td>M3A\\n</td>\n",
              "      <td>North York\\n</td>\n",
              "      <td>Parkwoods\\n</td>\n",
              "    </tr>\n",
              "    <tr>\n",
              "      <th>3</th>\n",
              "      <td>M4A\\n</td>\n",
              "      <td>North York\\n</td>\n",
              "      <td>Victoria Village\\n</td>\n",
              "    </tr>\n",
              "    <tr>\n",
              "      <th>4</th>\n",
              "      <td>M5A\\n</td>\n",
              "      <td>Downtown Toronto\\n</td>\n",
              "      <td>Regent Park, Harbourfront\\n</td>\n",
              "    </tr>\n",
              "  </tbody>\n",
              "</table>\n",
              "</div>"
            ],
            "text/plain": [
              "  Postal Code\\n           Borough\\n               Neighborhood\\n\n",
              "0         M1A\\n      Not assigned\\n               Not assigned\\n\n",
              "1         M2A\\n      Not assigned\\n               Not assigned\\n\n",
              "2         M3A\\n        North York\\n                  Parkwoods\\n\n",
              "3         M4A\\n        North York\\n           Victoria Village\\n\n",
              "4         M5A\\n  Downtown Toronto\\n  Regent Park, Harbourfront\\n"
            ]
          },
          "metadata": {
            "tags": []
          },
          "execution_count": 131
        }
      ]
    },
    {
      "cell_type": "code",
      "metadata": {
        "id": "AOSW7qzG94Ud",
        "colab_type": "code",
        "colab": {
          "base_uri": "https://localhost:8080/",
          "height": 359
        },
        "outputId": "d1843f7c-6ace-498e-c3da-671d4f347eed"
      },
      "source": [
        "df.head(10)"
      ],
      "execution_count": 132,
      "outputs": [
        {
          "output_type": "execute_result",
          "data": {
            "text/html": [
              "<div>\n",
              "<style scoped>\n",
              "    .dataframe tbody tr th:only-of-type {\n",
              "        vertical-align: middle;\n",
              "    }\n",
              "\n",
              "    .dataframe tbody tr th {\n",
              "        vertical-align: top;\n",
              "    }\n",
              "\n",
              "    .dataframe thead th {\n",
              "        text-align: right;\n",
              "    }\n",
              "</style>\n",
              "<table border=\"1\" class=\"dataframe\">\n",
              "  <thead>\n",
              "    <tr style=\"text-align: right;\">\n",
              "      <th></th>\n",
              "      <th>Postal Code\\n</th>\n",
              "      <th>Borough\\n</th>\n",
              "      <th>Neighborhood\\n</th>\n",
              "    </tr>\n",
              "  </thead>\n",
              "  <tbody>\n",
              "    <tr>\n",
              "      <th>0</th>\n",
              "      <td>M1A\\n</td>\n",
              "      <td>Not assigned\\n</td>\n",
              "      <td>Not assigned\\n</td>\n",
              "    </tr>\n",
              "    <tr>\n",
              "      <th>1</th>\n",
              "      <td>M2A\\n</td>\n",
              "      <td>Not assigned\\n</td>\n",
              "      <td>Not assigned\\n</td>\n",
              "    </tr>\n",
              "    <tr>\n",
              "      <th>2</th>\n",
              "      <td>M3A\\n</td>\n",
              "      <td>North York\\n</td>\n",
              "      <td>Parkwoods\\n</td>\n",
              "    </tr>\n",
              "    <tr>\n",
              "      <th>3</th>\n",
              "      <td>M4A\\n</td>\n",
              "      <td>North York\\n</td>\n",
              "      <td>Victoria Village\\n</td>\n",
              "    </tr>\n",
              "    <tr>\n",
              "      <th>4</th>\n",
              "      <td>M5A\\n</td>\n",
              "      <td>Downtown Toronto\\n</td>\n",
              "      <td>Regent Park, Harbourfront\\n</td>\n",
              "    </tr>\n",
              "    <tr>\n",
              "      <th>5</th>\n",
              "      <td>M6A\\n</td>\n",
              "      <td>North York\\n</td>\n",
              "      <td>Lawrence Manor, Lawrence Heights\\n</td>\n",
              "    </tr>\n",
              "    <tr>\n",
              "      <th>6</th>\n",
              "      <td>M7A\\n</td>\n",
              "      <td>Downtown Toronto\\n</td>\n",
              "      <td>Queen's Park, Ontario Provincial Government\\n</td>\n",
              "    </tr>\n",
              "    <tr>\n",
              "      <th>7</th>\n",
              "      <td>M8A\\n</td>\n",
              "      <td>Not assigned\\n</td>\n",
              "      <td>Not assigned\\n</td>\n",
              "    </tr>\n",
              "    <tr>\n",
              "      <th>8</th>\n",
              "      <td>M9A\\n</td>\n",
              "      <td>Etobicoke\\n</td>\n",
              "      <td>Islington Avenue, Humber Valley Village\\n</td>\n",
              "    </tr>\n",
              "    <tr>\n",
              "      <th>9</th>\n",
              "      <td>M1B\\n</td>\n",
              "      <td>Scarborough\\n</td>\n",
              "      <td>Malvern, Rouge\\n</td>\n",
              "    </tr>\n",
              "  </tbody>\n",
              "</table>\n",
              "</div>"
            ],
            "text/plain": [
              "  Postal Code\\n  ...                                 Neighborhood\\n\n",
              "0         M1A\\n  ...                                 Not assigned\\n\n",
              "1         M2A\\n  ...                                 Not assigned\\n\n",
              "2         M3A\\n  ...                                    Parkwoods\\n\n",
              "3         M4A\\n  ...                             Victoria Village\\n\n",
              "4         M5A\\n  ...                    Regent Park, Harbourfront\\n\n",
              "5         M6A\\n  ...             Lawrence Manor, Lawrence Heights\\n\n",
              "6         M7A\\n  ...  Queen's Park, Ontario Provincial Government\\n\n",
              "7         M8A\\n  ...                                 Not assigned\\n\n",
              "8         M9A\\n  ...      Islington Avenue, Humber Valley Village\\n\n",
              "9         M1B\\n  ...                               Malvern, Rouge\\n\n",
              "\n",
              "[10 rows x 3 columns]"
            ]
          },
          "metadata": {
            "tags": []
          },
          "execution_count": 132
        }
      ]
    },
    {
      "cell_type": "code",
      "metadata": {
        "id": "nZHgS2Ai-mQw",
        "colab_type": "code",
        "colab": {
          "base_uri": "https://localhost:8080/",
          "height": 204
        },
        "outputId": "931d2fb3-1523-4d0d-a41c-e767759776cf"
      },
      "source": [
        "df = df.replace('\\n',' ', regex=True)\n",
        "\n",
        "df.columns = ['Postcode', 'Borough','Neighbourhood']\n",
        "df.head()"
      ],
      "execution_count": 133,
      "outputs": [
        {
          "output_type": "execute_result",
          "data": {
            "text/html": [
              "<div>\n",
              "<style scoped>\n",
              "    .dataframe tbody tr th:only-of-type {\n",
              "        vertical-align: middle;\n",
              "    }\n",
              "\n",
              "    .dataframe tbody tr th {\n",
              "        vertical-align: top;\n",
              "    }\n",
              "\n",
              "    .dataframe thead th {\n",
              "        text-align: right;\n",
              "    }\n",
              "</style>\n",
              "<table border=\"1\" class=\"dataframe\">\n",
              "  <thead>\n",
              "    <tr style=\"text-align: right;\">\n",
              "      <th></th>\n",
              "      <th>Postcode</th>\n",
              "      <th>Borough</th>\n",
              "      <th>Neighbourhood</th>\n",
              "    </tr>\n",
              "  </thead>\n",
              "  <tbody>\n",
              "    <tr>\n",
              "      <th>0</th>\n",
              "      <td>M1A</td>\n",
              "      <td>Not assigned</td>\n",
              "      <td>Not assigned</td>\n",
              "    </tr>\n",
              "    <tr>\n",
              "      <th>1</th>\n",
              "      <td>M2A</td>\n",
              "      <td>Not assigned</td>\n",
              "      <td>Not assigned</td>\n",
              "    </tr>\n",
              "    <tr>\n",
              "      <th>2</th>\n",
              "      <td>M3A</td>\n",
              "      <td>North York</td>\n",
              "      <td>Parkwoods</td>\n",
              "    </tr>\n",
              "    <tr>\n",
              "      <th>3</th>\n",
              "      <td>M4A</td>\n",
              "      <td>North York</td>\n",
              "      <td>Victoria Village</td>\n",
              "    </tr>\n",
              "    <tr>\n",
              "      <th>4</th>\n",
              "      <td>M5A</td>\n",
              "      <td>Downtown Toronto</td>\n",
              "      <td>Regent Park, Harbourfront</td>\n",
              "    </tr>\n",
              "  </tbody>\n",
              "</table>\n",
              "</div>"
            ],
            "text/plain": [
              "  Postcode            Borough               Neighbourhood\n",
              "0     M1A       Not assigned                Not assigned \n",
              "1     M2A       Not assigned                Not assigned \n",
              "2     M3A         North York                   Parkwoods \n",
              "3     M4A         North York            Victoria Village \n",
              "4     M5A   Downtown Toronto   Regent Park, Harbourfront "
            ]
          },
          "metadata": {
            "tags": []
          },
          "execution_count": 133
        }
      ]
    },
    {
      "cell_type": "code",
      "metadata": {
        "id": "aAcAXqJ0-uQT",
        "colab_type": "code",
        "colab": {
          "base_uri": "https://localhost:8080/",
          "height": 204
        },
        "outputId": "c7cf1894-43d6-4636-9385-39fe3545a8d6"
      },
      "source": [
        "df = df.replace('\\n',' ', regex=True)\n",
        "df.head()"
      ],
      "execution_count": 134,
      "outputs": [
        {
          "output_type": "execute_result",
          "data": {
            "text/html": [
              "<div>\n",
              "<style scoped>\n",
              "    .dataframe tbody tr th:only-of-type {\n",
              "        vertical-align: middle;\n",
              "    }\n",
              "\n",
              "    .dataframe tbody tr th {\n",
              "        vertical-align: top;\n",
              "    }\n",
              "\n",
              "    .dataframe thead th {\n",
              "        text-align: right;\n",
              "    }\n",
              "</style>\n",
              "<table border=\"1\" class=\"dataframe\">\n",
              "  <thead>\n",
              "    <tr style=\"text-align: right;\">\n",
              "      <th></th>\n",
              "      <th>Postcode</th>\n",
              "      <th>Borough</th>\n",
              "      <th>Neighbourhood</th>\n",
              "    </tr>\n",
              "  </thead>\n",
              "  <tbody>\n",
              "    <tr>\n",
              "      <th>0</th>\n",
              "      <td>M1A</td>\n",
              "      <td>Not assigned</td>\n",
              "      <td>Not assigned</td>\n",
              "    </tr>\n",
              "    <tr>\n",
              "      <th>1</th>\n",
              "      <td>M2A</td>\n",
              "      <td>Not assigned</td>\n",
              "      <td>Not assigned</td>\n",
              "    </tr>\n",
              "    <tr>\n",
              "      <th>2</th>\n",
              "      <td>M3A</td>\n",
              "      <td>North York</td>\n",
              "      <td>Parkwoods</td>\n",
              "    </tr>\n",
              "    <tr>\n",
              "      <th>3</th>\n",
              "      <td>M4A</td>\n",
              "      <td>North York</td>\n",
              "      <td>Victoria Village</td>\n",
              "    </tr>\n",
              "    <tr>\n",
              "      <th>4</th>\n",
              "      <td>M5A</td>\n",
              "      <td>Downtown Toronto</td>\n",
              "      <td>Regent Park, Harbourfront</td>\n",
              "    </tr>\n",
              "  </tbody>\n",
              "</table>\n",
              "</div>"
            ],
            "text/plain": [
              "  Postcode            Borough               Neighbourhood\n",
              "0     M1A       Not assigned                Not assigned \n",
              "1     M2A       Not assigned                Not assigned \n",
              "2     M3A         North York                   Parkwoods \n",
              "3     M4A         North York            Victoria Village \n",
              "4     M5A   Downtown Toronto   Regent Park, Harbourfront "
            ]
          },
          "metadata": {
            "tags": []
          },
          "execution_count": 134
        }
      ]
    },
    {
      "cell_type": "code",
      "metadata": {
        "id": "ASL1kIVn-_3h",
        "colab_type": "code",
        "colab": {
          "base_uri": "https://localhost:8080/",
          "height": 359
        },
        "outputId": "1c3c1012-b43b-4796-b281-2ac540a3edd5"
      },
      "source": [
        "df['Borough'] = df['Borough'].str.strip()\n",
        "df.drop(df.index[df['Borough'] == 'Not assigned'], inplace = True)\n",
        "\n",
        "# Reset the index and dropping the previous index\n",
        "df = df.reset_index(drop=True)\n",
        "\n",
        "df.head(10)"
      ],
      "execution_count": 135,
      "outputs": [
        {
          "output_type": "execute_result",
          "data": {
            "text/html": [
              "<div>\n",
              "<style scoped>\n",
              "    .dataframe tbody tr th:only-of-type {\n",
              "        vertical-align: middle;\n",
              "    }\n",
              "\n",
              "    .dataframe tbody tr th {\n",
              "        vertical-align: top;\n",
              "    }\n",
              "\n",
              "    .dataframe thead th {\n",
              "        text-align: right;\n",
              "    }\n",
              "</style>\n",
              "<table border=\"1\" class=\"dataframe\">\n",
              "  <thead>\n",
              "    <tr style=\"text-align: right;\">\n",
              "      <th></th>\n",
              "      <th>Postcode</th>\n",
              "      <th>Borough</th>\n",
              "      <th>Neighbourhood</th>\n",
              "    </tr>\n",
              "  </thead>\n",
              "  <tbody>\n",
              "    <tr>\n",
              "      <th>0</th>\n",
              "      <td>M3A</td>\n",
              "      <td>North York</td>\n",
              "      <td>Parkwoods</td>\n",
              "    </tr>\n",
              "    <tr>\n",
              "      <th>1</th>\n",
              "      <td>M4A</td>\n",
              "      <td>North York</td>\n",
              "      <td>Victoria Village</td>\n",
              "    </tr>\n",
              "    <tr>\n",
              "      <th>2</th>\n",
              "      <td>M5A</td>\n",
              "      <td>Downtown Toronto</td>\n",
              "      <td>Regent Park, Harbourfront</td>\n",
              "    </tr>\n",
              "    <tr>\n",
              "      <th>3</th>\n",
              "      <td>M6A</td>\n",
              "      <td>North York</td>\n",
              "      <td>Lawrence Manor, Lawrence Heights</td>\n",
              "    </tr>\n",
              "    <tr>\n",
              "      <th>4</th>\n",
              "      <td>M7A</td>\n",
              "      <td>Downtown Toronto</td>\n",
              "      <td>Queen's Park, Ontario Provincial Government</td>\n",
              "    </tr>\n",
              "    <tr>\n",
              "      <th>5</th>\n",
              "      <td>M9A</td>\n",
              "      <td>Etobicoke</td>\n",
              "      <td>Islington Avenue, Humber Valley Village</td>\n",
              "    </tr>\n",
              "    <tr>\n",
              "      <th>6</th>\n",
              "      <td>M1B</td>\n",
              "      <td>Scarborough</td>\n",
              "      <td>Malvern, Rouge</td>\n",
              "    </tr>\n",
              "    <tr>\n",
              "      <th>7</th>\n",
              "      <td>M3B</td>\n",
              "      <td>North York</td>\n",
              "      <td>Don Mills</td>\n",
              "    </tr>\n",
              "    <tr>\n",
              "      <th>8</th>\n",
              "      <td>M4B</td>\n",
              "      <td>East York</td>\n",
              "      <td>Parkview Hill, Woodbine Gardens</td>\n",
              "    </tr>\n",
              "    <tr>\n",
              "      <th>9</th>\n",
              "      <td>M5B</td>\n",
              "      <td>Downtown Toronto</td>\n",
              "      <td>Garden District, Ryerson</td>\n",
              "    </tr>\n",
              "  </tbody>\n",
              "</table>\n",
              "</div>"
            ],
            "text/plain": [
              "  Postcode           Borough                                 Neighbourhood\n",
              "0     M3A         North York                                    Parkwoods \n",
              "1     M4A         North York                             Victoria Village \n",
              "2     M5A   Downtown Toronto                    Regent Park, Harbourfront \n",
              "3     M6A         North York             Lawrence Manor, Lawrence Heights \n",
              "4     M7A   Downtown Toronto  Queen's Park, Ontario Provincial Government \n",
              "5     M9A          Etobicoke      Islington Avenue, Humber Valley Village \n",
              "6     M1B        Scarborough                               Malvern, Rouge \n",
              "7     M3B         North York                                    Don Mills \n",
              "8     M4B          East York              Parkview Hill, Woodbine Gardens \n",
              "9     M5B   Downtown Toronto                     Garden District, Ryerson "
            ]
          },
          "metadata": {
            "tags": []
          },
          "execution_count": 135
        }
      ]
    },
    {
      "cell_type": "code",
      "metadata": {
        "id": "PmgmIggt_axx",
        "colab_type": "code",
        "colab": {
          "base_uri": "https://localhost:8080/",
          "height": 34
        },
        "outputId": "d9940e69-9e21-4eaf-a2b3-878c4929a30f"
      },
      "source": [
        "df.shape"
      ],
      "execution_count": 137,
      "outputs": [
        {
          "output_type": "execute_result",
          "data": {
            "text/plain": [
              "(104, 3)"
            ]
          },
          "metadata": {
            "tags": []
          },
          "execution_count": 137
        }
      ]
    },
    {
      "cell_type": "code",
      "metadata": {
        "id": "VUHYW2nJQ5Wx",
        "colab_type": "code",
        "colab": {
          "base_uri": "https://localhost:8080/",
          "height": 1000
        },
        "outputId": "e45018e7-2ba3-4a5a-a3a4-5c5814330453"
      },
      "source": [
        "df['Neighbourhood'] = df['Neighbourhood'].str.strip()\n",
        "for i in df['Neighbourhood']:\n",
        "  print(i)"
      ],
      "execution_count": 145,
      "outputs": [
        {
          "output_type": "stream",
          "text": [
            "Parkwoods\n",
            "Victoria Village\n",
            "Regent Park, Harbourfront\n",
            "Lawrence Manor, Lawrence Heights\n",
            "Queen's Park, Ontario Provincial Government\n",
            "Islington Avenue, Humber Valley Village\n",
            "Malvern, Rouge\n",
            "Don Mills\n",
            "Parkview Hill, Woodbine Gardens\n",
            "Garden District, Ryerson\n",
            "Glencairn\n",
            "West Deane Park, Princess Gardens, Martin Grove, Islington, Cloverdale\n",
            "Rouge Hill, Port Union, Highland Creek\n",
            "Don Mills\n",
            "Woodbine Heights\n",
            "St. James Town\n",
            "Humewood-Cedarvale\n",
            "Eringate, Bloordale Gardens, Old Burnhamthorpe, Markland Wood\n",
            "Guildwood, Morningside, West Hill\n",
            "The Beaches\n",
            "Berczy Park\n",
            "Caledonia-Fairbanks\n",
            "Woburn\n",
            "Leaside\n",
            "Central Bay Street\n",
            "Christie\n",
            "Cedarbrae\n",
            "Hillcrest Village\n",
            "Bathurst Manor, Wilson Heights, Downsview North\n",
            "Thorncliffe Park\n",
            "Richmond, Adelaide, King\n",
            "Dufferin, Dovercourt Village\n",
            "Scarborough Village\n",
            "Fairview, Henry Farm, Oriole\n",
            "Northwood Park, York University\n",
            "East Toronto, Broadview North (Old East York)\n",
            "Harbourfront East, Union Station, Toronto Islands\n",
            "Little Portugal, Trinity\n",
            "Kennedy Park, Ionview, East Birchmount Park\n",
            "Bayview Village\n",
            "Downsview\n",
            "The Danforth West, Riverdale\n",
            "Toronto Dominion Centre, Design Exchange\n",
            "Brockton, Parkdale Village, Exhibition Place\n",
            "Golden Mile, Clairlea, Oakridge\n",
            "York Mills, Silver Hills\n",
            "Downsview\n",
            "India Bazaar, The Beaches West\n",
            "Commerce Court, Victoria Hotel\n",
            "North Park, Maple Leaf Park, Upwood Park\n",
            "Humber Summit\n",
            "Cliffside, Cliffcrest, Scarborough Village West\n",
            "Willowdale, Newtonbrook\n",
            "Downsview\n",
            "Studio District\n",
            "Bedford Park, Lawrence Manor East\n",
            "Del Ray, Mount Dennis, Keelsdale and Silverthorn\n",
            "Humberlea, Emery\n",
            "Birch Cliff, Cliffside West\n",
            "Willowdale, Willowdale East\n",
            "Downsview\n",
            "Lawrence Park\n",
            "Roselawn\n",
            "Runnymede, The Junction North\n",
            "Weston\n",
            "Dorset Park, Wexford Heights, Scarborough Town Centre\n",
            "York Mills West\n",
            "Davisville North\n",
            "Forest Hill North & West, Forest Hill Road Park\n",
            "High Park, The Junction South\n",
            "Westmount\n",
            "Wexford, Maryvale\n",
            "Willowdale, Willowdale West\n",
            "North Toronto West,  Lawrence Park\n",
            "The Annex, North Midtown, Yorkville\n",
            "Parkdale, Roncesvalles\n",
            "Canada Post Gateway Processing Centre\n",
            "Kingsview Village, St. Phillips, Martin Grove Gardens, Richview Gardens\n",
            "Agincourt\n",
            "Davisville\n",
            "University of Toronto, Harbord\n",
            "Runnymede, Swansea\n",
            "Clarks Corners, Tam O'Shanter, Sullivan\n",
            "Moore Park, Summerhill East\n",
            "Kensington Market, Chinatown, Grange Park\n",
            "Milliken, Agincourt North, Steeles East, L'Amoreaux East\n",
            "Summerhill West, Rathnelly, South Hill, Forest Hill SE, Deer Park\n",
            "CN Tower, King and Spadina, Railway Lands, Harbourfront West, Bathurst Quay, South Niagara, Island airport\n",
            "New Toronto, Mimico South, Humber Bay Shores\n",
            "South Steeles, Silverstone, Humbergate, Jamestown, Mount Olive, Beaumond Heights, Thistletown, Albion Gardens\n",
            "Steeles West, L'Amoreaux West\n",
            "Rosedale\n",
            "Stn A PO Boxes\n",
            "Alderwood, Long Branch\n",
            "Northwest, West Humber - Clairville\n",
            "Upper Rouge\n",
            "St. James Town, Cabbagetown\n",
            "First Canadian Place, Underground city\n",
            "The Kingsway, Montgomery Road, Old Mill North\n",
            "Church and Wellesley\n",
            "Business reply mail Processing Centre, South Central Letter Processing Plant Toronto\n",
            "Old Mill South, King's Mill Park, Sunnylea, Humber Bay, Mimico NE, The Queensway East, Royal York South East, Kingsway Park South East\n",
            "Mimico NW, The Queensway West, South of Bloor, Kingsway Park South West, Royal York South West\n",
            "\n"
          ],
          "name": "stdout"
        }
      ]
    },
    {
      "cell_type": "code",
      "metadata": {
        "id": "LG7ESpFvQ7ec",
        "colab_type": "code",
        "colab": {
          "base_uri": "https://localhost:8080/",
          "height": 49
        },
        "outputId": "6b87fe5a-4658-489a-f468-365dbc16d742"
      },
      "source": [
        ""
      ],
      "execution_count": null,
      "outputs": [
        {
          "output_type": "execute_result",
          "data": {
            "text/html": [
              "<div>\n",
              "<style scoped>\n",
              "    .dataframe tbody tr th:only-of-type {\n",
              "        vertical-align: middle;\n",
              "    }\n",
              "\n",
              "    .dataframe tbody tr th {\n",
              "        vertical-align: top;\n",
              "    }\n",
              "\n",
              "    .dataframe thead th {\n",
              "        text-align: right;\n",
              "    }\n",
              "</style>\n",
              "<table border=\"1\" class=\"dataframe\">\n",
              "  <thead>\n",
              "    <tr style=\"text-align: right;\">\n",
              "      <th></th>\n",
              "      <th>Postal Code</th>\n",
              "      <th>Borough</th>\n",
              "      <th>Neighborhood</th>\n",
              "    </tr>\n",
              "  </thead>\n",
              "  <tbody>\n",
              "  </tbody>\n",
              "</table>\n",
              "</div>"
            ],
            "text/plain": [
              "Empty DataFrame\n",
              "Columns: [Postal Code, Borough, Neighborhood]\n",
              "Index: []"
            ]
          },
          "metadata": {
            "tags": []
          },
          "execution_count": 92
        }
      ]
    },
    {
      "cell_type": "code",
      "metadata": {
        "id": "mH1TWUkKREYn",
        "colab_type": "code",
        "colab": {
          "base_uri": "https://localhost:8080/",
          "height": 359
        },
        "outputId": "3b91756c-2e11-4870-ea52-193fedbaac17"
      },
      "source": [
        "df.loc[df['Neighbourhood'] == 'Not assigned', 'Neighbourhood'] = df['Borough']\n",
        "df.head(10)"
      ],
      "execution_count": 143,
      "outputs": [
        {
          "output_type": "execute_result",
          "data": {
            "text/html": [
              "<div>\n",
              "<style scoped>\n",
              "    .dataframe tbody tr th:only-of-type {\n",
              "        vertical-align: middle;\n",
              "    }\n",
              "\n",
              "    .dataframe tbody tr th {\n",
              "        vertical-align: top;\n",
              "    }\n",
              "\n",
              "    .dataframe thead th {\n",
              "        text-align: right;\n",
              "    }\n",
              "</style>\n",
              "<table border=\"1\" class=\"dataframe\">\n",
              "  <thead>\n",
              "    <tr style=\"text-align: right;\">\n",
              "      <th></th>\n",
              "      <th>Postcode</th>\n",
              "      <th>Borough</th>\n",
              "      <th>Neighbourhood</th>\n",
              "    </tr>\n",
              "  </thead>\n",
              "  <tbody>\n",
              "    <tr>\n",
              "      <th>0</th>\n",
              "      <td>M3A</td>\n",
              "      <td>North York</td>\n",
              "      <td>Parkwoods</td>\n",
              "    </tr>\n",
              "    <tr>\n",
              "      <th>1</th>\n",
              "      <td>M4A</td>\n",
              "      <td>North York</td>\n",
              "      <td>Victoria Village</td>\n",
              "    </tr>\n",
              "    <tr>\n",
              "      <th>2</th>\n",
              "      <td>M5A</td>\n",
              "      <td>Downtown Toronto</td>\n",
              "      <td>Regent Park, Harbourfront</td>\n",
              "    </tr>\n",
              "    <tr>\n",
              "      <th>3</th>\n",
              "      <td>M6A</td>\n",
              "      <td>North York</td>\n",
              "      <td>Lawrence Manor, Lawrence Heights</td>\n",
              "    </tr>\n",
              "    <tr>\n",
              "      <th>4</th>\n",
              "      <td>M7A</td>\n",
              "      <td>Downtown Toronto</td>\n",
              "      <td>Queen's Park, Ontario Provincial Government</td>\n",
              "    </tr>\n",
              "    <tr>\n",
              "      <th>5</th>\n",
              "      <td>M9A</td>\n",
              "      <td>Etobicoke</td>\n",
              "      <td>Islington Avenue, Humber Valley Village</td>\n",
              "    </tr>\n",
              "    <tr>\n",
              "      <th>6</th>\n",
              "      <td>M1B</td>\n",
              "      <td>Scarborough</td>\n",
              "      <td>Malvern, Rouge</td>\n",
              "    </tr>\n",
              "    <tr>\n",
              "      <th>7</th>\n",
              "      <td>M3B</td>\n",
              "      <td>North York</td>\n",
              "      <td>Don Mills</td>\n",
              "    </tr>\n",
              "    <tr>\n",
              "      <th>8</th>\n",
              "      <td>M4B</td>\n",
              "      <td>East York</td>\n",
              "      <td>Parkview Hill, Woodbine Gardens</td>\n",
              "    </tr>\n",
              "    <tr>\n",
              "      <th>9</th>\n",
              "      <td>M5B</td>\n",
              "      <td>Downtown Toronto</td>\n",
              "      <td>Garden District, Ryerson</td>\n",
              "    </tr>\n",
              "  </tbody>\n",
              "</table>\n",
              "</div>"
            ],
            "text/plain": [
              "  Postcode           Borough                                Neighbourhood\n",
              "0     M3A         North York                                    Parkwoods\n",
              "1     M4A         North York                             Victoria Village\n",
              "2     M5A   Downtown Toronto                    Regent Park, Harbourfront\n",
              "3     M6A         North York             Lawrence Manor, Lawrence Heights\n",
              "4     M7A   Downtown Toronto  Queen's Park, Ontario Provincial Government\n",
              "5     M9A          Etobicoke      Islington Avenue, Humber Valley Village\n",
              "6     M1B        Scarborough                               Malvern, Rouge\n",
              "7     M3B         North York                                    Don Mills\n",
              "8     M4B          East York              Parkview Hill, Woodbine Gardens\n",
              "9     M5B   Downtown Toronto                     Garden District, Ryerson"
            ]
          },
          "metadata": {
            "tags": []
          },
          "execution_count": 143
        }
      ]
    },
    {
      "cell_type": "code",
      "metadata": {
        "id": "_dkAFEfQRPvX",
        "colab_type": "code",
        "colab": {
          "base_uri": "https://localhost:8080/",
          "height": 1000
        },
        "outputId": "7a364a2c-c02a-43e1-b50c-1efd2c99009b"
      },
      "source": [
        "for i in df['Borough']:\n",
        "  print(i)"
      ],
      "execution_count": 151,
      "outputs": [
        {
          "output_type": "stream",
          "text": [
            "North York\n",
            "North York\n",
            "Downtown Toronto\n",
            "North York\n",
            "Downtown Toronto\n",
            "Etobicoke\n",
            "Scarborough\n",
            "North York\n",
            "East York\n",
            "Downtown Toronto\n",
            "North York\n",
            "Etobicoke\n",
            "Scarborough\n",
            "North York\n",
            "East York\n",
            "Downtown Toronto\n",
            "York\n",
            "Etobicoke\n",
            "Scarborough\n",
            "East Toronto\n",
            "Downtown Toronto\n",
            "York\n",
            "Scarborough\n",
            "East York\n",
            "Downtown Toronto\n",
            "Downtown Toronto\n",
            "Scarborough\n",
            "North York\n",
            "North York\n",
            "East York\n",
            "Downtown Toronto\n",
            "West Toronto\n",
            "Scarborough\n",
            "North York\n",
            "North York\n",
            "East York\n",
            "Downtown Toronto\n",
            "West Toronto\n",
            "Scarborough\n",
            "North York\n",
            "North York\n",
            "East Toronto\n",
            "Downtown Toronto\n",
            "West Toronto\n",
            "Scarborough\n",
            "North York\n",
            "North York\n",
            "East Toronto\n",
            "Downtown Toronto\n",
            "North York\n",
            "North York\n",
            "Scarborough\n",
            "North York\n",
            "North York\n",
            "East Toronto\n",
            "North York\n",
            "York\n",
            "North York\n",
            "Scarborough\n",
            "North York\n",
            "North York\n",
            "Central Toronto\n",
            "Central Toronto\n",
            "York\n",
            "York\n",
            "Scarborough\n",
            "North York\n",
            "Central Toronto\n",
            "Central Toronto\n",
            "West Toronto\n",
            "Etobicoke\n",
            "Scarborough\n",
            "North York\n",
            "Central Toronto\n",
            "Central Toronto\n",
            "West Toronto\n",
            "Mississauga\n",
            "Etobicoke\n",
            "Scarborough\n",
            "Central Toronto\n",
            "Downtown Toronto\n",
            "West Toronto\n",
            "Scarborough\n",
            "Central Toronto\n",
            "Downtown Toronto\n",
            "Scarborough\n",
            "Central Toronto\n",
            "Downtown Toronto\n",
            "Etobicoke\n",
            "Etobicoke\n",
            "Scarborough\n",
            "Downtown Toronto\n",
            "Downtown Toronto\n",
            "Etobicoke\n",
            "Etobicoke\n",
            "Scarborough\n",
            "Downtown Toronto\n",
            "Downtown Toronto\n",
            "Etobicoke\n",
            "Downtown Toronto\n",
            "East Toronto\n",
            "Etobicoke\n",
            "Etobicoke\n",
            "Canadian postal codes\n"
          ],
          "name": "stdout"
        }
      ]
    },
    {
      "cell_type": "code",
      "metadata": {
        "id": "JjcEwOx1T6kU",
        "colab_type": "code",
        "colab": {
          "base_uri": "https://localhost:8080/",
          "height": 1000
        },
        "outputId": "4f466669-9ef9-4b7e-e879-cb7f2200a3fa"
      },
      "source": [
        "df.loc[df['Neighbourhood'] == 'Not assigned', 'Neighbourhood'] = df['Borough']\n",
        "for i in df['Neighbourhood']:\n",
        "  print(i)"
      ],
      "execution_count": 153,
      "outputs": [
        {
          "output_type": "stream",
          "text": [
            "Parkwoods\n",
            "Victoria Village\n",
            "Regent Park, Harbourfront\n",
            "Lawrence Manor, Lawrence Heights\n",
            "Queen's Park, Ontario Provincial Government\n",
            "Islington Avenue, Humber Valley Village\n",
            "Malvern, Rouge\n",
            "Don Mills\n",
            "Parkview Hill, Woodbine Gardens\n",
            "Garden District, Ryerson\n",
            "Glencairn\n",
            "West Deane Park, Princess Gardens, Martin Grove, Islington, Cloverdale\n",
            "Rouge Hill, Port Union, Highland Creek\n",
            "Don Mills\n",
            "Woodbine Heights\n",
            "St. James Town\n",
            "Humewood-Cedarvale\n",
            "Eringate, Bloordale Gardens, Old Burnhamthorpe, Markland Wood\n",
            "Guildwood, Morningside, West Hill\n",
            "The Beaches\n",
            "Berczy Park\n",
            "Caledonia-Fairbanks\n",
            "Woburn\n",
            "Leaside\n",
            "Central Bay Street\n",
            "Christie\n",
            "Cedarbrae\n",
            "Hillcrest Village\n",
            "Bathurst Manor, Wilson Heights, Downsview North\n",
            "Thorncliffe Park\n",
            "Richmond, Adelaide, King\n",
            "Dufferin, Dovercourt Village\n",
            "Scarborough Village\n",
            "Fairview, Henry Farm, Oriole\n",
            "Northwood Park, York University\n",
            "East Toronto, Broadview North (Old East York)\n",
            "Harbourfront East, Union Station, Toronto Islands\n",
            "Little Portugal, Trinity\n",
            "Kennedy Park, Ionview, East Birchmount Park\n",
            "Bayview Village\n",
            "Downsview\n",
            "The Danforth West, Riverdale\n",
            "Toronto Dominion Centre, Design Exchange\n",
            "Brockton, Parkdale Village, Exhibition Place\n",
            "Golden Mile, Clairlea, Oakridge\n",
            "York Mills, Silver Hills\n",
            "Downsview\n",
            "India Bazaar, The Beaches West\n",
            "Commerce Court, Victoria Hotel\n",
            "North Park, Maple Leaf Park, Upwood Park\n",
            "Humber Summit\n",
            "Cliffside, Cliffcrest, Scarborough Village West\n",
            "Willowdale, Newtonbrook\n",
            "Downsview\n",
            "Studio District\n",
            "Bedford Park, Lawrence Manor East\n",
            "Del Ray, Mount Dennis, Keelsdale and Silverthorn\n",
            "Humberlea, Emery\n",
            "Birch Cliff, Cliffside West\n",
            "Willowdale, Willowdale East\n",
            "Downsview\n",
            "Lawrence Park\n",
            "Roselawn\n",
            "Runnymede, The Junction North\n",
            "Weston\n",
            "Dorset Park, Wexford Heights, Scarborough Town Centre\n",
            "York Mills West\n",
            "Davisville North\n",
            "Forest Hill North & West, Forest Hill Road Park\n",
            "High Park, The Junction South\n",
            "Westmount\n",
            "Wexford, Maryvale\n",
            "Willowdale, Willowdale West\n",
            "North Toronto West,  Lawrence Park\n",
            "The Annex, North Midtown, Yorkville\n",
            "Parkdale, Roncesvalles\n",
            "Canada Post Gateway Processing Centre\n",
            "Kingsview Village, St. Phillips, Martin Grove Gardens, Richview Gardens\n",
            "Agincourt\n",
            "Davisville\n",
            "University of Toronto, Harbord\n",
            "Runnymede, Swansea\n",
            "Clarks Corners, Tam O'Shanter, Sullivan\n",
            "Moore Park, Summerhill East\n",
            "Kensington Market, Chinatown, Grange Park\n",
            "Milliken, Agincourt North, Steeles East, L'Amoreaux East\n",
            "Summerhill West, Rathnelly, South Hill, Forest Hill SE, Deer Park\n",
            "CN Tower, King and Spadina, Railway Lands, Harbourfront West, Bathurst Quay, South Niagara, Island airport\n",
            "New Toronto, Mimico South, Humber Bay Shores\n",
            "South Steeles, Silverstone, Humbergate, Jamestown, Mount Olive, Beaumond Heights, Thistletown, Albion Gardens\n",
            "Steeles West, L'Amoreaux West\n",
            "Rosedale\n",
            "Stn A PO Boxes\n",
            "Alderwood, Long Branch\n",
            "Northwest, West Humber - Clairville\n",
            "Upper Rouge\n",
            "St. James Town, Cabbagetown\n",
            "First Canadian Place, Underground city\n",
            "The Kingsway, Montgomery Road, Old Mill North\n",
            "Church and Wellesley\n",
            "Business reply mail Processing Centre, South Central Letter Processing Plant Toronto\n",
            "Old Mill South, King's Mill Park, Sunnylea, Humber Bay, Mimico NE, The Queensway East, Royal York South East, Kingsway Park South East\n",
            "Mimico NW, The Queensway West, South of Bloor, Kingsway Park South West, Royal York South West\n",
            "\n"
          ],
          "name": "stdout"
        }
      ]
    },
    {
      "cell_type": "code",
      "metadata": {
        "id": "XX9fhcf_T98b",
        "colab_type": "code",
        "colab": {
          "base_uri": "https://localhost:8080/",
          "height": 34
        },
        "outputId": "618a09a2-4ff5-40a2-ee13-24c71716dae4"
      },
      "source": [
        "df.shape"
      ],
      "execution_count": 154,
      "outputs": [
        {
          "output_type": "execute_result",
          "data": {
            "text/plain": [
              "(104, 3)"
            ]
          },
          "metadata": {
            "tags": []
          },
          "execution_count": 154
        }
      ]
    },
    {
      "cell_type": "code",
      "metadata": {
        "id": "8grKPHv0VLx2",
        "colab_type": "code",
        "colab": {}
      },
      "source": [
        "df.to_csv(r'df_canada.csv')"
      ],
      "execution_count": 156,
      "outputs": []
    },
    {
      "cell_type": "code",
      "metadata": {
        "id": "da58tHPdVTff",
        "colab_type": "code",
        "colab": {}
      },
      "source": [
        ""
      ],
      "execution_count": null,
      "outputs": []
    }
  ]
}